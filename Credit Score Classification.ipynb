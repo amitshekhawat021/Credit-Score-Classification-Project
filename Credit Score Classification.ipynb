{
 "cells": [
  {
   "cell_type": "markdown",
   "id": "92886142",
   "metadata": {},
   "source": [
    "# PROJECT: CREDIT-SCORE CLASSIFICATION"
   ]
  },
  {
   "cell_type": "markdown",
   "id": "95d47f9c",
   "metadata": {},
   "source": [
    "![](money-256319_1280.jpg)"
   ]
  },
  {
   "cell_type": "markdown",
   "id": "636026b1",
   "metadata": {},
   "source": [
    "### Importing essential Libraries.\n"
   ]
  },
  {
   "cell_type": "code",
   "execution_count": 3,
   "id": "822f50ea",
   "metadata": {},
   "outputs": [],
   "source": [
    "import pandas as pd\n",
    "import numpy as np"
   ]
  },
  {
   "cell_type": "markdown",
   "id": "0c961d18",
   "metadata": {},
   "source": [
    "### Loading the Dataset."
   ]
  },
  {
   "cell_type": "code",
   "execution_count": 4,
   "id": "ee1b6b85",
   "metadata": {},
   "outputs": [
    {
     "data": {
      "text/html": [
       "<div>\n",
       "<style scoped>\n",
       "    .dataframe tbody tr th:only-of-type {\n",
       "        vertical-align: middle;\n",
       "    }\n",
       "\n",
       "    .dataframe tbody tr th {\n",
       "        vertical-align: top;\n",
       "    }\n",
       "\n",
       "    .dataframe thead th {\n",
       "        text-align: right;\n",
       "    }\n",
       "</style>\n",
       "<table border=\"1\" class=\"dataframe\">\n",
       "  <thead>\n",
       "    <tr style=\"text-align: right;\">\n",
       "      <th></th>\n",
       "      <th>Age</th>\n",
       "      <th>Gender</th>\n",
       "      <th>Income</th>\n",
       "      <th>Education</th>\n",
       "      <th>Marital Status</th>\n",
       "      <th>Number of Children</th>\n",
       "      <th>Home Ownership</th>\n",
       "      <th>Credit Score</th>\n",
       "    </tr>\n",
       "  </thead>\n",
       "  <tbody>\n",
       "    <tr>\n",
       "      <th>86</th>\n",
       "      <td>34</td>\n",
       "      <td>Male</td>\n",
       "      <td>47500</td>\n",
       "      <td>Associate's Degree</td>\n",
       "      <td>Single</td>\n",
       "      <td>0</td>\n",
       "      <td>Rented</td>\n",
       "      <td>Average</td>\n",
       "    </tr>\n",
       "    <tr>\n",
       "      <th>61</th>\n",
       "      <td>25</td>\n",
       "      <td>Female</td>\n",
       "      <td>60000</td>\n",
       "      <td>Bachelor's Degree</td>\n",
       "      <td>Single</td>\n",
       "      <td>0</td>\n",
       "      <td>Rented</td>\n",
       "      <td>Average</td>\n",
       "    </tr>\n",
       "    <tr>\n",
       "      <th>161</th>\n",
       "      <td>39</td>\n",
       "      <td>Female</td>\n",
       "      <td>62500</td>\n",
       "      <td>Bachelor's Degree</td>\n",
       "      <td>Married</td>\n",
       "      <td>2</td>\n",
       "      <td>Owned</td>\n",
       "      <td>High</td>\n",
       "    </tr>\n",
       "    <tr>\n",
       "      <th>128</th>\n",
       "      <td>28</td>\n",
       "      <td>Male</td>\n",
       "      <td>75000</td>\n",
       "      <td>Bachelor's Degree</td>\n",
       "      <td>Single</td>\n",
       "      <td>0</td>\n",
       "      <td>Rented</td>\n",
       "      <td>Average</td>\n",
       "    </tr>\n",
       "  </tbody>\n",
       "</table>\n",
       "</div>"
      ],
      "text/plain": [
       "     Age  Gender  Income           Education Marital Status  \\\n",
       "86    34    Male   47500  Associate's Degree         Single   \n",
       "61    25  Female   60000   Bachelor's Degree         Single   \n",
       "161   39  Female   62500   Bachelor's Degree        Married   \n",
       "128   28    Male   75000   Bachelor's Degree         Single   \n",
       "\n",
       "     Number of Children Home Ownership Credit Score  \n",
       "86                    0         Rented      Average  \n",
       "61                    0         Rented      Average  \n",
       "161                   2          Owned         High  \n",
       "128                   0         Rented      Average  "
      ]
     },
     "execution_count": 4,
     "metadata": {},
     "output_type": "execute_result"
    }
   ],
   "source": [
    "df=pd.read_csv(\"Credit Score Classification Dataset.csv\")\n",
    "df.sample(4)"
   ]
  },
  {
   "cell_type": "markdown",
   "id": "5461a205",
   "metadata": {},
   "source": [
    "### Checking the information about columns"
   ]
  },
  {
   "cell_type": "code",
   "execution_count": 5,
   "id": "cd0b3fc9",
   "metadata": {},
   "outputs": [],
   "source": [
    "import pandas as pd\n",
    "import numpy as np\n",
    "import matplotlib.pyplot as plt\n",
    "import seaborn as sns"
   ]
  },
  {
   "cell_type": "code",
   "execution_count": 6,
   "id": "fc96dd8b",
   "metadata": {},
   "outputs": [],
   "source": [
    "df_avg= df[df['Credit Score']==\"Average\"]"
   ]
  },
  {
   "cell_type": "code",
   "execution_count": 7,
   "id": "ec826708",
   "metadata": {},
   "outputs": [],
   "source": [
    "df_avg2=df[df['Credit Score']==\"Low\"]\n",
    "df_avg3=df[df['Credit Score']==\"High\"]"
   ]
  },
  {
   "cell_type": "code",
   "execution_count": 8,
   "id": "7e7a7f91",
   "metadata": {},
   "outputs": [
    {
     "data": {
      "text/plain": [
       "<matplotlib.collections.PathCollection at 0x1d73a920e10>"
      ]
     },
     "execution_count": 8,
     "metadata": {},
     "output_type": "execute_result"
    },
    {
     "data": {
      "image/png": "[encoded data removed]",
      "text/plain": [
       "<Figure size 640x480 with 1 Axes>"
      ]
     },
     "metadata": {},
     "output_type": "display_data"
    }
   ],
   "source": [
    "\n",
    "plt.scatter(df['Home Ownership'],df['Credit Score'])"
   ]
  },
  {
   "cell_type": "code",
   "execution_count": 11,
   "id": "803b6691",
   "metadata": {},
   "outputs": [
    {
     "name": "stdout",
     "output_type": "stream",
     "text": [
      "<class 'pandas.core.frame.DataFrame'>\n",
      "RangeIndex: 164 entries, 0 to 163\n",
      "Data columns (total 8 columns):\n",
      " #   Column              Non-Null Count  Dtype \n",
      "---  ------              --------------  ----- \n",
      " 0   Age                 164 non-null    int64 \n",
      " 1   Gender              164 non-null    object\n",
      " 2   Income              164 non-null    int64 \n",
      " 3   Education           164 non-null    object\n",
      " 4   Marital Status      164 non-null    object\n",
      " 5   Number of Children  164 non-null    int64 \n",
      " 6   Home Ownership      164 non-null    object\n",
      " 7   Credit Score        164 non-null    object\n",
      "dtypes: int64(3), object(5)\n",
      "memory usage: 10.4+ KB\n"
     ]
    }
   ],
   "source": [
    "df.info()"
   ]
  },
  {
   "cell_type": "markdown",
   "id": "a8856b3b",
   "metadata": {},
   "source": [
    "### Checking the number of missing values."
   ]
  },
  {
   "cell_type": "code",
   "execution_count": 12,
   "id": "6d90df8f",
   "metadata": {},
   "outputs": [
    {
     "data": {
      "text/plain": [
       "Age                   0\n",
       "Gender                0\n",
       "Income                0\n",
       "Education             0\n",
       "Marital Status        0\n",
       "Number of Children    0\n",
       "Home Ownership        0\n",
       "Credit Score          0\n",
       "dtype: int64"
      ]
     },
     "execution_count": 12,
     "metadata": {},
     "output_type": "execute_result"
    }
   ],
   "source": [
    "df.isnull().sum()"
   ]
  },
  {
   "cell_type": "markdown",
   "id": "fade2b3f",
   "metadata": {},
   "source": [
    "### change  categorical data into intigar value"
   ]
  },
  {
   "cell_type": "code",
   "execution_count": 13,
   "id": "f3286049",
   "metadata": {},
   "outputs": [
    {
     "data": {
      "text/html": [
       "<div>\n",
       "<style scoped>\n",
       "    .dataframe tbody tr th:only-of-type {\n",
       "        vertical-align: middle;\n",
       "    }\n",
       "\n",
       "    .dataframe tbody tr th {\n",
       "        vertical-align: top;\n",
       "    }\n",
       "\n",
       "    .dataframe thead th {\n",
       "        text-align: right;\n",
       "    }\n",
       "</style>\n",
       "<table border=\"1\" class=\"dataframe\">\n",
       "  <thead>\n",
       "    <tr style=\"text-align: right;\">\n",
       "      <th></th>\n",
       "      <th>Age</th>\n",
       "      <th>Gender</th>\n",
       "      <th>Income</th>\n",
       "      <th>Education</th>\n",
       "      <th>Marital Status</th>\n",
       "      <th>Number of Children</th>\n",
       "      <th>Home Ownership</th>\n",
       "      <th>Credit Score</th>\n",
       "    </tr>\n",
       "  </thead>\n",
       "  <tbody>\n",
       "    <tr>\n",
       "      <th>0</th>\n",
       "      <td>25</td>\n",
       "      <td>0</td>\n",
       "      <td>50000</td>\n",
       "      <td>1</td>\n",
       "      <td>1</td>\n",
       "      <td>0</td>\n",
       "      <td>1</td>\n",
       "      <td>High</td>\n",
       "    </tr>\n",
       "    <tr>\n",
       "      <th>1</th>\n",
       "      <td>30</td>\n",
       "      <td>1</td>\n",
       "      <td>100000</td>\n",
       "      <td>4</td>\n",
       "      <td>0</td>\n",
       "      <td>2</td>\n",
       "      <td>0</td>\n",
       "      <td>High</td>\n",
       "    </tr>\n",
       "    <tr>\n",
       "      <th>2</th>\n",
       "      <td>35</td>\n",
       "      <td>0</td>\n",
       "      <td>75000</td>\n",
       "      <td>2</td>\n",
       "      <td>0</td>\n",
       "      <td>1</td>\n",
       "      <td>0</td>\n",
       "      <td>High</td>\n",
       "    </tr>\n",
       "    <tr>\n",
       "      <th>3</th>\n",
       "      <td>40</td>\n",
       "      <td>1</td>\n",
       "      <td>125000</td>\n",
       "      <td>3</td>\n",
       "      <td>1</td>\n",
       "      <td>0</td>\n",
       "      <td>0</td>\n",
       "      <td>High</td>\n",
       "    </tr>\n",
       "    <tr>\n",
       "      <th>4</th>\n",
       "      <td>45</td>\n",
       "      <td>0</td>\n",
       "      <td>100000</td>\n",
       "      <td>1</td>\n",
       "      <td>0</td>\n",
       "      <td>3</td>\n",
       "      <td>0</td>\n",
       "      <td>High</td>\n",
       "    </tr>\n",
       "    <tr>\n",
       "      <th>...</th>\n",
       "      <td>...</td>\n",
       "      <td>...</td>\n",
       "      <td>...</td>\n",
       "      <td>...</td>\n",
       "      <td>...</td>\n",
       "      <td>...</td>\n",
       "      <td>...</td>\n",
       "      <td>...</td>\n",
       "    </tr>\n",
       "    <tr>\n",
       "      <th>159</th>\n",
       "      <td>29</td>\n",
       "      <td>0</td>\n",
       "      <td>27500</td>\n",
       "      <td>3</td>\n",
       "      <td>1</td>\n",
       "      <td>0</td>\n",
       "      <td>1</td>\n",
       "      <td>Low</td>\n",
       "    </tr>\n",
       "    <tr>\n",
       "      <th>160</th>\n",
       "      <td>34</td>\n",
       "      <td>1</td>\n",
       "      <td>47500</td>\n",
       "      <td>0</td>\n",
       "      <td>1</td>\n",
       "      <td>0</td>\n",
       "      <td>1</td>\n",
       "      <td>Average</td>\n",
       "    </tr>\n",
       "    <tr>\n",
       "      <th>161</th>\n",
       "      <td>39</td>\n",
       "      <td>0</td>\n",
       "      <td>62500</td>\n",
       "      <td>1</td>\n",
       "      <td>0</td>\n",
       "      <td>2</td>\n",
       "      <td>0</td>\n",
       "      <td>High</td>\n",
       "    </tr>\n",
       "    <tr>\n",
       "      <th>162</th>\n",
       "      <td>44</td>\n",
       "      <td>1</td>\n",
       "      <td>87500</td>\n",
       "      <td>4</td>\n",
       "      <td>1</td>\n",
       "      <td>0</td>\n",
       "      <td>0</td>\n",
       "      <td>High</td>\n",
       "    </tr>\n",
       "    <tr>\n",
       "      <th>163</th>\n",
       "      <td>49</td>\n",
       "      <td>0</td>\n",
       "      <td>77500</td>\n",
       "      <td>2</td>\n",
       "      <td>0</td>\n",
       "      <td>1</td>\n",
       "      <td>0</td>\n",
       "      <td>High</td>\n",
       "    </tr>\n",
       "  </tbody>\n",
       "</table>\n",
       "<p>164 rows × 8 columns</p>\n",
       "</div>"
      ],
      "text/plain": [
       "     Age  Gender  Income  Education  Marital Status  Number of Children  \\\n",
       "0     25       0   50000          1               1                   0   \n",
       "1     30       1  100000          4               0                   2   \n",
       "2     35       0   75000          2               0                   1   \n",
       "3     40       1  125000          3               1                   0   \n",
       "4     45       0  100000          1               0                   3   \n",
       "..   ...     ...     ...        ...             ...                 ...   \n",
       "159   29       0   27500          3               1                   0   \n",
       "160   34       1   47500          0               1                   0   \n",
       "161   39       0   62500          1               0                   2   \n",
       "162   44       1   87500          4               1                   0   \n",
       "163   49       0   77500          2               0                   1   \n",
       "\n",
       "     Home Ownership Credit Score  \n",
       "0                 1         High  \n",
       "1                 0         High  \n",
       "2                 0         High  \n",
       "3                 0         High  \n",
       "4                 0         High  \n",
       "..              ...          ...  \n",
       "159               1          Low  \n",
       "160               1      Average  \n",
       "161               0         High  \n",
       "162               0         High  \n",
       "163               0         High  \n",
       "\n",
       "[164 rows x 8 columns]"
      ]
     },
     "execution_count": 13,
     "metadata": {},
     "output_type": "execute_result"
    }
   ],
   "source": [
    " from sklearn.preprocessing import LabelEncoder\n",
    "le=LabelEncoder()\n",
    "df['Gender']=le.fit_transform(df['Gender'])\n",
    "df['Education']=le.fit_transform(df['Education'])\n",
    "df['Marital Status']=le.fit_transform(df['Marital Status'])\n",
    "df['Home Ownership']=le.fit_transform(df['Home Ownership'])\n",
    "df"
   ]
  },
  {
   "cell_type": "markdown",
   "id": "1b690490",
   "metadata": {},
   "source": [
    "#### Seperating x as input label and y as output label"
   ]
  },
  {
   "cell_type": "code",
   "execution_count": 19,
   "id": "b32123d8",
   "metadata": {},
   "outputs": [],
   "source": [
    "X=df.drop(\"Credit Score\",axis=1)\n",
    "Y=df['Credit Score']"
   ]
  },
  {
   "cell_type": "code",
   "execution_count": 20,
   "id": "30832932",
   "metadata": {},
   "outputs": [
    {
     "data": {
      "text/html": [
       "<div>\n",
       "<style scoped>\n",
       "    .dataframe tbody tr th:only-of-type {\n",
       "        vertical-align: middle;\n",
       "    }\n",
       "\n",
       "    .dataframe tbody tr th {\n",
       "        vertical-align: top;\n",
       "    }\n",
       "\n",
       "    .dataframe thead th {\n",
       "        text-align: right;\n",
       "    }\n",
       "</style>\n",
       "<table border=\"1\" class=\"dataframe\">\n",
       "  <thead>\n",
       "    <tr style=\"text-align: right;\">\n",
       "      <th></th>\n",
       "      <th>Age</th>\n",
       "      <th>Gender</th>\n",
       "      <th>Income</th>\n",
       "      <th>Education</th>\n",
       "      <th>Marital Status</th>\n",
       "      <th>Number of Children</th>\n",
       "      <th>Home Ownership</th>\n",
       "    </tr>\n",
       "  </thead>\n",
       "  <tbody>\n",
       "    <tr>\n",
       "      <th>0</th>\n",
       "      <td>25</td>\n",
       "      <td>0</td>\n",
       "      <td>50000</td>\n",
       "      <td>1</td>\n",
       "      <td>1</td>\n",
       "      <td>0</td>\n",
       "      <td>1</td>\n",
       "    </tr>\n",
       "    <tr>\n",
       "      <th>1</th>\n",
       "      <td>30</td>\n",
       "      <td>1</td>\n",
       "      <td>100000</td>\n",
       "      <td>4</td>\n",
       "      <td>0</td>\n",
       "      <td>2</td>\n",
       "      <td>0</td>\n",
       "    </tr>\n",
       "    <tr>\n",
       "      <th>2</th>\n",
       "      <td>35</td>\n",
       "      <td>0</td>\n",
       "      <td>75000</td>\n",
       "      <td>2</td>\n",
       "      <td>0</td>\n",
       "      <td>1</td>\n",
       "      <td>0</td>\n",
       "    </tr>\n",
       "    <tr>\n",
       "      <th>3</th>\n",
       "      <td>40</td>\n",
       "      <td>1</td>\n",
       "      <td>125000</td>\n",
       "      <td>3</td>\n",
       "      <td>1</td>\n",
       "      <td>0</td>\n",
       "      <td>0</td>\n",
       "    </tr>\n",
       "    <tr>\n",
       "      <th>4</th>\n",
       "      <td>45</td>\n",
       "      <td>0</td>\n",
       "      <td>100000</td>\n",
       "      <td>1</td>\n",
       "      <td>0</td>\n",
       "      <td>3</td>\n",
       "      <td>0</td>\n",
       "    </tr>\n",
       "    <tr>\n",
       "      <th>...</th>\n",
       "      <td>...</td>\n",
       "      <td>...</td>\n",
       "      <td>...</td>\n",
       "      <td>...</td>\n",
       "      <td>...</td>\n",
       "      <td>...</td>\n",
       "      <td>...</td>\n",
       "    </tr>\n",
       "    <tr>\n",
       "      <th>159</th>\n",
       "      <td>29</td>\n",
       "      <td>0</td>\n",
       "      <td>27500</td>\n",
       "      <td>3</td>\n",
       "      <td>1</td>\n",
       "      <td>0</td>\n",
       "      <td>1</td>\n",
       "    </tr>\n",
       "    <tr>\n",
       "      <th>160</th>\n",
       "      <td>34</td>\n",
       "      <td>1</td>\n",
       "      <td>47500</td>\n",
       "      <td>0</td>\n",
       "      <td>1</td>\n",
       "      <td>0</td>\n",
       "      <td>1</td>\n",
       "    </tr>\n",
       "    <tr>\n",
       "      <th>161</th>\n",
       "      <td>39</td>\n",
       "      <td>0</td>\n",
       "      <td>62500</td>\n",
       "      <td>1</td>\n",
       "      <td>0</td>\n",
       "      <td>2</td>\n",
       "      <td>0</td>\n",
       "    </tr>\n",
       "    <tr>\n",
       "      <th>162</th>\n",
       "      <td>44</td>\n",
       "      <td>1</td>\n",
       "      <td>87500</td>\n",
       "      <td>4</td>\n",
       "      <td>1</td>\n",
       "      <td>0</td>\n",
       "      <td>0</td>\n",
       "    </tr>\n",
       "    <tr>\n",
       "      <th>163</th>\n",
       "      <td>49</td>\n",
       "      <td>0</td>\n",
       "      <td>77500</td>\n",
       "      <td>2</td>\n",
       "      <td>0</td>\n",
       "      <td>1</td>\n",
       "      <td>0</td>\n",
       "    </tr>\n",
       "  </tbody>\n",
       "</table>\n",
       "<p>164 rows × 7 columns</p>\n",
       "</div>"
      ],
      "text/plain": [
       "     Age  Gender  Income  Education  Marital Status  Number of Children  \\\n",
       "0     25       0   50000          1               1                   0   \n",
       "1     30       1  100000          4               0                   2   \n",
       "2     35       0   75000          2               0                   1   \n",
       "3     40       1  125000          3               1                   0   \n",
       "4     45       0  100000          1               0                   3   \n",
       "..   ...     ...     ...        ...             ...                 ...   \n",
       "159   29       0   27500          3               1                   0   \n",
       "160   34       1   47500          0               1                   0   \n",
       "161   39       0   62500          1               0                   2   \n",
       "162   44       1   87500          4               1                   0   \n",
       "163   49       0   77500          2               0                   1   \n",
       "\n",
       "     Home Ownership  \n",
       "0                 1  \n",
       "1                 0  \n",
       "2                 0  \n",
       "3                 0  \n",
       "4                 0  \n",
       "..              ...  \n",
       "159               1  \n",
       "160               1  \n",
       "161               0  \n",
       "162               0  \n",
       "163               0  \n",
       "\n",
       "[164 rows x 7 columns]"
      ]
     },
     "execution_count": 20,
     "metadata": {},
     "output_type": "execute_result"
    }
   ],
   "source": [
    "X"
   ]
  },
  {
   "cell_type": "code",
   "execution_count": 21,
   "id": "bb895c98",
   "metadata": {
    "scrolled": true
   },
   "outputs": [
    {
     "data": {
      "text/plain": [
       "0         High\n",
       "1         High\n",
       "2         High\n",
       "3         High\n",
       "4         High\n",
       "        ...   \n",
       "159        Low\n",
       "160    Average\n",
       "161       High\n",
       "162       High\n",
       "163       High\n",
       "Name: Credit Score, Length: 164, dtype: object"
      ]
     },
     "execution_count": 21,
     "metadata": {},
     "output_type": "execute_result"
    }
   ],
   "source": [
    "Y"
   ]
  },
  {
   "cell_type": "markdown",
   "id": "45a1b6a3",
   "metadata": {},
   "source": [
    "### Use RandomForest for train data &cross_val_score for  evaluating model performance"
   ]
  },
  {
   "cell_type": "code",
   "execution_count": 22,
   "id": "991004b4",
   "metadata": {},
   "outputs": [
    {
     "name": "stdout",
     "output_type": "stream",
     "text": [
      "Average Accuracy: 0.9753787878787878\n"
     ]
    }
   ],
   "source": [
    "from sklearn.model_selection import cross_val_score\n",
    "from sklearn.ensemble import RandomForestClassifier\n",
    "import numpy as np\n",
    "\n",
    "model = RandomForestClassifier()\n",
    "\n",
    "scores = cross_val_score(model, X, Y, cv=5, scoring='accuracy')\n",
    "average_score = np.mean(scores)\n",
    "print(f'Average Accuracy: {average_score}')\n"
   ]
  },
  {
   "cell_type": "markdown",
   "id": "38a60fb3",
   "metadata": {},
   "source": [
    "### Use KNeighborsClassifier for train data &cross_val_score for evaluating model performance"
   ]
  },
  {
   "cell_type": "code",
   "execution_count": 23,
   "id": "0b126b9f",
   "metadata": {},
   "outputs": [
    {
     "name": "stdout",
     "output_type": "stream",
     "text": [
      "[0.93939394 0.96969697 1.         0.93939394 0.9375    ]\n",
      "Average Accuracy: 0.9571969696969698\n"
     ]
    }
   ],
   "source": [
    "from sklearn.model_selection import cross_val_score\n",
    "from sklearn.neighbors import KNeighborsClassifier\n",
    "knn=KNeighborsClassifier(n_neighbors=7)\n",
    "\n",
    "scores = cross_val_score(knn, X, Y, cv=5, scoring='accuracy')\n",
    "print(scores)\n",
    "average_score = np.mean(scores)\n",
    "\n",
    "print(f'Average Accuracy: {average_score}')\n"
   ]
  },
  {
   "cell_type": "markdown",
   "id": "54fe2f75",
   "metadata": {},
   "source": [
    "### Use SVM for train data &cross_val_score for evaluating model performance"
   ]
  },
  {
   "cell_type": "code",
   "execution_count": 24,
   "id": "69413b84",
   "metadata": {},
   "outputs": [
    {
     "name": "stdout",
     "output_type": "stream",
     "text": [
      "[0.94117647 0.76470588 1.         0.88235294 0.9375     0.9375\n",
      " 0.9375     0.875      0.875      0.9375    ]\n",
      "Average Accuracy: 0.9088235294117647\n"
     ]
    }
   ],
   "source": [
    "from sklearn.svm import SVC\n",
    "import numpy as np\n",
    "model_svm=SVC()\n",
    "scores = cross_val_score(model_svm, X, Y, cv=10, scoring='accuracy')\n",
    "print(scores)\n",
    "\n",
    "average_score = np.mean(scores)\n",
    "\n",
    "print(f'Average Accuracy: {average_score}')\n"
   ]
  },
  {
   "cell_type": "markdown",
   "id": "81ccb1cd",
   "metadata": {},
   "source": [
    "## RESULT : RandomForestClassifier has higher accuracy score so that it is best model"
   ]
  },
  {
   "cell_type": "code",
   "execution_count": null,
   "id": "55cd7682",
   "metadata": {},
   "outputs": [],
   "source": []
  }
 ],
 "metadata": {
  "kernelspec": {
   "display_name": "Python 3 (ipykernel)",
   "language": "python",
   "name": "python3"
  },
  "language_info": {
   "codemirror_mode": {
    "name": "ipython",
    "version": 3
   },
   "file_extension": ".py",
   "mimetype": "text/x-python",
   "name": "python",
   "nbconvert_exporter": "python",
   "pygments_lexer": "ipython3",
   "version": "3.11.4"
  }
 },
 "nbformat": 4,
 "nbformat_minor": 5
}
